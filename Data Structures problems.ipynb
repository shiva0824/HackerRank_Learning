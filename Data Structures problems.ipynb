{
 "cells": [
  {
   "cell_type": "code",
   "execution_count": 3,
   "metadata": {},
   "outputs": [
    {
     "data": {
      "text/plain": [
       "[3, 2, 1]"
      ]
     },
     "execution_count": 3,
     "metadata": {},
     "output_type": "execute_result"
    }
   ],
   "source": [
    "#1. Reversing an array\n",
    "\n",
    "def reverseArray(arr):\n",
    "    n = len(arr)\n",
    "    reversed_arr = []\n",
    "    for i in range(n-1, -1, -1): #start,end,decrement by -1\n",
    "        reversed_arr.append(arr[i])\n",
    "    return reversed_arr\n",
    "\n",
    "arr = [1,2,3]\n",
    "reverseArray(arr)"
   ]
  },
  {
   "cell_type": "code",
   "execution_count": 13,
   "metadata": {},
   "outputs": [
    {
     "name": "stdout",
     "output_type": "stream",
     "text": [
      "19\n"
     ]
    }
   ],
   "source": [
    "#2. hourglass sum\n",
    "\n",
    "def hourglassSum(arr):\n",
    "    max_sum = -63  # The minimum possible hourglass sum (-9 * 7)\n",
    "    \n",
    "    for i in range(4):\n",
    "        for j in range(4):  \n",
    "            top = arr[i][j] + arr[i][j+1] + arr[i][j+2]\n",
    "            middle = arr[i+1][j+1]\n",
    "            bottom = arr[i+2][j] + arr[i+2][j+1] + arr[i+2][j+2]\n",
    "            hourglass = top + middle + bottom\n",
    "            max_sum = max(max_sum, hourglass)\n",
    "    \n",
    "    return max_sum\n",
    "\n",
    "arr = [\n",
    "    [1, 1, 1, 0, 0, 0],\n",
    "    [0, 1, 0, 0, 0, 0],\n",
    "    [1, 1, 1, 0, 0, 0],\n",
    "    [0, 0, 2, 4, 4, 0],\n",
    "    [0, 0, 0, 2, 0, 0],\n",
    "    [0, 1, 1, 2, 4, 0]\n",
    "]\n",
    "\n",
    "result = hourglassSum(arr)\n",
    "print(result) "
   ]
  },
  {
   "cell_type": "code",
   "execution_count": 17,
   "metadata": {},
   "outputs": [
    {
     "name": "stdout",
     "output_type": "stream",
     "text": [
      "[7, 3]\n"
     ]
    }
   ],
   "source": [
    "#3. Dynamic array\n",
    "\n",
    "def dynamicArray(n, queries):\n",
    "    sequences = [[] for _ in range(n)] #creating n empty arrays\n",
    "    last_answer = 0\n",
    "    results = []\n",
    "\n",
    "    for i in queries:\n",
    "        if i[0] == 1:\n",
    "            index = (i[1] ^ last_answer) % n\n",
    "            sequences[index].append(i[2])\n",
    "        else:\n",
    "            index = (i[1] ^ last_answer) % n\n",
    "            j = i[2] % len(sequences[index])\n",
    "            last_answer = sequences[index][j]\n",
    "            results.append(last_answer)\n",
    "        \n",
    "    return results\n",
    "\n",
    "\n",
    "\n",
    "n = 2\n",
    "queries = [\n",
    "    [1, 0, 5],\n",
    "    [1, 1, 7],\n",
    "    [1, 0, 3],\n",
    "    [2, 1, 0],\n",
    "    [2, 1, 1]\n",
    "]\n",
    "\n",
    "output = dynamicArray(n, queries)\n",
    "print(output)\n"
   ]
  },
  {
   "cell_type": "code",
   "execution_count": 19,
   "metadata": {},
   "outputs": [
    {
     "name": "stdout",
     "output_type": "stream",
     "text": [
      "[3, 4, 5, 1, 2]\n"
     ]
    }
   ],
   "source": [
    "#4. Left rotation\n",
    "\n",
    "def rotateLeft(d, arr):\n",
    "    n = len(arr)\n",
    "    d = d%n\n",
    "    final_array = arr[d:] + arr[:d]\n",
    "    return final_array\n",
    "\n",
    "arr = [1, 2, 3, 4, 5]\n",
    "d = 2\n",
    "result = rotateLeft(d, arr)\n",
    "print(result)"
   ]
  },
  {
   "cell_type": "code",
   "execution_count": 20,
   "metadata": {},
   "outputs": [
    {
     "data": {
      "text/plain": [
       "[2, 1, 0]"
      ]
     },
     "execution_count": 20,
     "metadata": {},
     "output_type": "execute_result"
    }
   ],
   "source": [
    "#5. sparse arrays\n",
    "\n",
    "def matchingStrings(stringList, queries):\n",
    "    count_map = {}\n",
    "    \n",
    "    for string in stringList:\n",
    "        if string in count_map:\n",
    "            count_map[string] += 1\n",
    "        else:\n",
    "            count_map[string] = 1\n",
    "            \n",
    "    results = []\n",
    "    for query in queries:\n",
    "        results.append(count_map.get(query, 0))\n",
    "    \n",
    "    return results\n",
    "            \n",
    "\n",
    "\n",
    "stringList = ['ab', 'ab', 'abc']\n",
    "queries = ['ab', 'abc', 'bc']\n",
    "matchingStrings(stringList, queries)    "
   ]
  }
 ],
 "metadata": {
  "kernelspec": {
   "display_name": "Python 3",
   "language": "python",
   "name": "python3"
  },
  "language_info": {
   "codemirror_mode": {
    "name": "ipython",
    "version": 3
   },
   "file_extension": ".py",
   "mimetype": "text/x-python",
   "name": "python",
   "nbconvert_exporter": "python",
   "pygments_lexer": "ipython3",
   "version": "3.7.4"
  }
 },
 "nbformat": 4,
 "nbformat_minor": 2
}
