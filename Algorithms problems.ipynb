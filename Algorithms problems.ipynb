{
 "cells": [
  {
   "cell_type": "code",
   "execution_count": 30,
   "metadata": {},
   "outputs": [
    {
     "name": "stdout",
     "output_type": "stream",
     "text": [
      "4\n",
      "4\n",
      "8\n"
     ]
    }
   ],
   "source": [
    "# 1. function to calculate the sum of integers in an array\n",
    "def solveMeFirst(a, b):\n",
    "    return a+b\n",
    "\n",
    "num1 = int(input())\n",
    "num2 = int(input())\n",
    "res = solveMeFirst(num1, num2)\n",
    "print(res)"
   ]
  },
  {
   "cell_type": "code",
   "execution_count": 31,
   "metadata": {},
   "outputs": [
    {
     "data": {
      "text/plain": [
       "[1, 1]"
      ]
     },
     "execution_count": 31,
     "metadata": {},
     "output_type": "execute_result"
    }
   ],
   "source": [
    "#2. function to compare the triplets\n",
    "def compareTriplets(a, b):\n",
    "    comparsion_points = []\n",
    "    alice_total = 0\n",
    "    bob_total = 0\n",
    "    for i, j in zip(a,b):\n",
    "        if i > j:\n",
    "            alice_total += 1\n",
    "        elif i < j:\n",
    "            bob_total +=1\n",
    "    comparsion_points.append(alice_total)\n",
    "    comparsion_points.append(bob_total)\n",
    "    return comparsion_points\n",
    "\n",
    "a = [1, 2, 3]\n",
    "b = [3, 2, 1]\n",
    "compareTriplets(a,b)"
   ]
  },
  {
   "cell_type": "code",
   "execution_count": 32,
   "metadata": {},
   "outputs": [
    {
     "data": {
      "text/plain": [
       "123000000"
      ]
     },
     "execution_count": 32,
     "metadata": {},
     "output_type": "execute_result"
    }
   ],
   "source": [
    "#3. Sum of elements in an array\n",
    "def aVeryBigSum(ar):\n",
    "    sum = 0\n",
    "    for i in ar:\n",
    "        sum += i\n",
    "    return sum\n",
    "\n",
    "ar = [100000000,20000000,3000000]\n",
    "aVeryBigSum(ar)"
   ]
  },
  {
   "cell_type": "code",
   "execution_count": 37,
   "metadata": {},
   "outputs": [
    {
     "name": "stdout",
     "output_type": "stream",
     "text": [
      "15\n"
     ]
    }
   ],
   "source": [
    "# 4. Diagonal Difference\n",
    "def diagonalDifference(arr):\n",
    "    n = len(arr)\n",
    "    left_to_right_diag = 0\n",
    "    right_to_left_diag = 0\n",
    "    \n",
    "    for i in range(n):\n",
    "        left_to_right_diag += arr[i][i]\n",
    "        right_to_left_diag += arr[i][n - i - 1]\n",
    "\n",
    "    return abs(left_to_right_diag - right_to_left_diag)\n",
    "\n",
    "matrix = [[11, 2, 4],[4, 5, 6],[10, 8, -12]]\n",
    "print(diagonalDifference(matrix))"
   ]
  },
  {
   "cell_type": "code",
   "execution_count": 45,
   "metadata": {},
   "outputs": [
    {
     "name": "stdout",
     "output_type": "stream",
     "text": [
      "0.400000\n",
      "0.400000\n",
      "0.200000\n"
     ]
    }
   ],
   "source": [
    "# 5. Plus minus\n",
    "\n",
    "def plusMinus(arr):\n",
    "    n = len(arr) #length of array\n",
    "    pos_val = 0\n",
    "    neg_val = 0\n",
    "    zero_val = 0\n",
    "    for i in arr:\n",
    "        if i > 0:\n",
    "            pos_val += 1\n",
    "        elif i < 0:\n",
    "            neg_val += 1\n",
    "        else:\n",
    "            zero_val += 1\n",
    "    print(f\"{pos_val/n:.6f}\")\n",
    "    print(f\"{neg_val/n:.6f}\")\n",
    "    print(f\"{zero_val/n:.6f}\")\n",
    "\n",
    "arr = [1,1,0,-1,-1]\n",
    "plusMinus(arr)"
   ]
  },
  {
   "cell_type": "code",
   "execution_count": null,
   "metadata": {},
   "outputs": [],
   "source": []
  }
 ],
 "metadata": {
  "kernelspec": {
   "display_name": "Python 3",
   "language": "python",
   "name": "python3"
  },
  "language_info": {
   "codemirror_mode": {
    "name": "ipython",
    "version": 3
   },
   "file_extension": ".py",
   "mimetype": "text/x-python",
   "name": "python",
   "nbconvert_exporter": "python",
   "pygments_lexer": "ipython3",
   "version": "3.7.4"
  }
 },
 "nbformat": 4,
 "nbformat_minor": 2
}
